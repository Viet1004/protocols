{
  "nbformat": 4,
  "nbformat_minor": 0,
  "metadata": {
    "colab": {
      "name": "UnclonableEncryption.ipynb",
      "provenance": [],
      "collapsed_sections": []
    },
    "kernelspec": {
      "name": "python3",
      "display_name": "Python 3"
    }
  },
  "cells": [
    {
      "cell_type": "code",
      "metadata": {
        "id": "iiNGVSMsBcOI",
        "colab_type": "code",
        "colab": {}
      },
      "source": [
        "# pip install qiskit"
      ],
      "execution_count": 0,
      "outputs": []
    },
    {
      "cell_type": "code",
      "metadata": {
        "id": "2S9PbUOeBpjF",
        "colab_type": "code",
        "colab": {}
      },
      "source": [
        "import numpy as np\n",
        "import matplotlib.pyplot as plt\n",
        "\n",
        "# from qiskit import *"
      ],
      "execution_count": 0,
      "outputs": []
    },
    {
      "cell_type": "code",
      "metadata": {
        "id": "ng5jEt6jMIpI",
        "colab_type": "code",
        "colab": {}
      },
      "source": [
        "# Global Variables describing message and authentication\n",
        "\n",
        "n = 2\n",
        "r = 2\n",
        "s = int(n/r)\n",
        "len_k = s\n",
        "len_e = n+s"
      ],
      "execution_count": 0,
      "outputs": []
    },
    {
      "cell_type": "code",
      "metadata": {
        "id": "Nui5xEc8kcKJ",
        "colab_type": "code",
        "colab": {}
      },
      "source": [
        "# ECC for (n + s = 3)"
      ],
      "execution_count": 0,
      "outputs": []
    },
    {
      "cell_type": "code",
      "metadata": {
        "id": "2Us9ZhU_EYPH",
        "colab_type": "code",
        "colab": {}
      },
      "source": [
        "# Classical Error Correction Matrices\n",
        "\n",
        "# C2 = Dual of hamming code (3->7)\n",
        "# C2_perp = hamming code (4->7)\n",
        "\n",
        "G_p = [[1, 0, 0, 0], [0, 1, 0, 0], [0, 0, 1, 0], [0, 0, 0, 1], [0, 1, 1, 1], [1, 0, 1, 1], [1, 1, 0, 1]]\n",
        "H_p = [[0, 0, 0, 1, 1, 1, 1], [0, 1, 1, 0, 0, 1, 1], [1, 0, 1, 0, 1, 0, 1]]\n",
        "K = [[0, 0, 0, 1, 0, 0, 0], [0, 1, 0, 0, 0, 0, 0], [1, 0, 0, 0, 0, 0, 0]]"
      ],
      "execution_count": 0,
      "outputs": []
    },
    {
      "cell_type": "code",
      "metadata": {
        "id": "UYGE81_KRX2o",
        "colab_type": "code",
        "outputId": "d7eb3ce8-7e2f-4a28-b02d-56858d5c8138",
        "colab": {
          "base_uri": "https://localhost:8080/",
          "height": 54
        }
      },
      "source": [
        "'''\n",
        "# C2 = Dual of repetition code (2->3)\n",
        "# C2_perp = repetition code (1->3)\n",
        "\n",
        "G_p = [1, 1, 1]\n",
        "H_p = [[1, 1, 0], [0, 1, 1]]\n",
        "K = [[0, 1, 1], [0, 0, 1]]\n",
        "'''"
      ],
      "execution_count": 0,
      "outputs": [
        {
          "output_type": "execute_result",
          "data": {
            "text/plain": [
              "'\\n# C2 = Dual of repetition code (2->3)\\n# C2_perp = repetition code (1->3)\\n\\nG_p = [1, 1, 1]\\nH_p = [[1, 1, 0], [0, 1, 1]]\\nK = [[0, 1, 1], [0, 0, 1]]\\n'"
            ]
          },
          "metadata": {
            "tags": []
          },
          "execution_count": 6
        }
      ]
    },
    {
      "cell_type": "code",
      "metadata": {
        "id": "UrFelRshVAR6",
        "colab_type": "code",
        "colab": {}
      },
      "source": [
        ""
      ],
      "execution_count": 0,
      "outputs": []
    },
    {
      "cell_type": "code",
      "metadata": {
        "colab_type": "code",
        "id": "Nl3sBXkQL4Sz",
        "colab": {}
      },
      "source": [
        "def GenKey():\n",
        "  return np.random.randint(0, 2, len_k), np.random.randint(0, 2, len_e), np.random.randint(0, 2, len(G_p))"
      ],
      "execution_count": 0,
      "outputs": []
    },
    {
      "cell_type": "code",
      "metadata": {
        "id": "gqhPFGcbDva-",
        "colab_type": "code",
        "colab": {}
      },
      "source": [
        "def ConvToInt(arr):\n",
        "  res = int(\"\".join(str(x) for x in arr), 2) \n",
        "  return res"
      ],
      "execution_count": 0,
      "outputs": []
    },
    {
      "cell_type": "code",
      "metadata": {
        "id": "_ZMFiuosDhnJ",
        "colab_type": "code",
        "outputId": "34239b24-d4e4-4eba-eb77-143ed8cc92ff",
        "colab": {
          "base_uri": "https://localhost:8080/",
          "height": 68
        }
      },
      "source": [
        "k, e, b = GenKey()\n",
        "print(k)\n",
        "print(e)\n",
        "print(b)"
      ],
      "execution_count": 0,
      "outputs": [
        {
          "output_type": "stream",
          "text": [
            "[1]\n",
            "[1 0 1]\n",
            "[1 1 0 1 0 0 1]\n"
          ],
          "name": "stdout"
        }
      ]
    },
    {
      "cell_type": "code",
      "metadata": {
        "id": "UM5V5TihWQpZ",
        "colab_type": "code",
        "colab": {}
      },
      "source": [
        ""
      ],
      "execution_count": 0,
      "outputs": []
    },
    {
      "cell_type": "code",
      "metadata": {
        "id": "mcN3jgO3InGz",
        "colab_type": "code",
        "colab": {}
      },
      "source": [
        "def Send():\n",
        "  \n",
        "  def GenMsg():\n",
        "    return np.random.randint(0, 2, n)\n",
        "  \n",
        "  msg = GenMsg()\n",
        "  print(\"Actual Message: \", msg)\n",
        "  \n",
        "  def MakeMi(message):\n",
        "    m = []\n",
        "    for i in range(0,n,s):\n",
        "      m.append(ConvToInt(message[i:i+s]))\n",
        "    return m\n",
        "\n",
        "  def MakeMr():\n",
        "    m = MakeMi(msg)\n",
        "    f_k = 0\n",
        "\n",
        "    for i in range(0,r):\n",
        "      f_k += m[i]*(ConvToInt(k)**(r-i))\n",
        "\n",
        "    f_k = f_k%(2**s)\n",
        "    return (2**s - f_k)%(2**s)\n",
        "\n",
        "  def MakeMsgToSend():\n",
        "    msgToSend=msg\n",
        "    Mr = bin(MakeMr())[2:].zfill(s)\n",
        "    msgToSend = np.array(np.append(msgToSend, list(Mr)), dtype=int)\n",
        "    XORed_msg = ConvToInt(msgToSend) ^ ConvToInt(e)\n",
        "    y = list(bin(XORed_msg)[2:].zfill(len(e)))\n",
        "    return (np.array(y, dtype=int))\n",
        "\n",
        "  y = MakeMsgToSend()\n",
        "  print(\"Message to be sent (without EC): \", y)\n",
        "  \n",
        "  z0 = np.mod(np.matmul(np.transpose(y), K), 2)\n",
        "  random_choice = np.random.randint(0, 2, 4)\n",
        "  z = np.mod(z0 + np.matmul(G_p, np.transpose(random_choice)), 2) \n",
        "  print(\"Message to be sent (with EC): \", z)\n",
        "  \n",
        "  return z"
      ],
      "execution_count": 0,
      "outputs": []
    },
    {
      "cell_type": "code",
      "metadata": {
        "id": "HOoqNYdRhaUW",
        "colab_type": "code",
        "colab": {}
      },
      "source": [
        "def Receive(received_msg):\n",
        "  y_dec = np.mod(np.matmul(H_p, np.transpose(received_msg)), 2)\n",
        "  print(\"Received message after EC: \", y_dec)\n",
        "\n",
        "  XORed_msg_dec = ConvToInt(y_dec) ^ ConvToInt(e)\n",
        "  Mis_dec = list(bin(XORed_msg_dec)[2:].zfill(len(e)))\n",
        "  Mis_dec = np.array([int(x) for x in Mis_dec])\n",
        "  print(\"Actual message received: \", Mis_dec[:-s])\n",
        "  return Mis_dec[:-s]"
      ],
      "execution_count": 0,
      "outputs": []
    },
    {
      "cell_type": "code",
      "metadata": {
        "id": "SSHDvFatrpfR",
        "colab_type": "code",
        "outputId": "d6025c80-1624-4805-84da-0a5d844266b8",
        "colab": {
          "base_uri": "https://localhost:8080/",
          "height": 119
        }
      },
      "source": [
        "def main():\n",
        "  sent_message = Send()\n",
        "  print(\"Send and Receive the message with bits to be sent in the X basis if the corresponding bit in b is 0, else in the Z basis.\")\n",
        "  received_message = Receive(sent_message) \n",
        "\n",
        "if __name__ == \"__main__\":\n",
        "    main()\n"
      ],
      "execution_count": 0,
      "outputs": [
        {
          "output_type": "stream",
          "text": [
            "Actual Message:  [0 1]\n",
            "Message to be sent (without EC):  [1 1 0]\n",
            "Message to be sent (with EC):  [1 1 1 1 1 0 1]\n",
            "Send and Receive the message with bits to be sent in the X basis if the corresponding bit in b is 0, else in the Z basis.\n",
            "Received message after EC:  [1 1 0]\n",
            "Actual message received:  [0 1]\n"
          ],
          "name": "stdout"
        }
      ]
    },
    {
      "cell_type": "code",
      "metadata": {
        "id": "zB1WGG_CrpZZ",
        "colab_type": "code",
        "colab": {}
      },
      "source": [
        ""
      ],
      "execution_count": 0,
      "outputs": []
    },
    {
      "cell_type": "code",
      "metadata": {
        "id": "DzFr1IxxOVd8",
        "colab_type": "code",
        "colab": {}
      },
      "source": [
        "K_ = 1\n",
        "N = 3\n",
        "\n",
        "e = np.arange(0.01, 0.49, 0.01)"
      ],
      "execution_count": 0,
      "outputs": []
    },
    {
      "cell_type": "code",
      "metadata": {
        "id": "rYp8WjoRPSF-",
        "colab_type": "code",
        "colab": {}
      },
      "source": [
        "x = [K_/N]*len(e)\n",
        "y = 1 + 2*e*np.log(2*e) + (1-2*e)*np.log(1-2*e)"
      ],
      "execution_count": 0,
      "outputs": []
    },
    {
      "cell_type": "code",
      "metadata": {
        "id": "7DZbcDhbRDBr",
        "colab_type": "code",
        "outputId": "9278f0f9-4841-441a-a567-8d0b3e99e742",
        "colab": {
          "base_uri": "https://localhost:8080/",
          "height": 265
        }
      },
      "source": [
        "# The x-axis is \\eta\n",
        "\n",
        "plt.plot(e, y) # The y-axis is 1 - h(2\\eta), blue graph\n",
        "plt.plot(e, x) # The orange graph, equal to K'\\N\n",
        "\n",
        "plt.show()"
      ],
      "execution_count": 0,
      "outputs": [
        {
          "output_type": "display_data",
          "data": {
            "image/png": "[encoded data removed]",
            "text/plain": [
              "<Figure size 432x288 with 1 Axes>"
            ]
          },
          "metadata": {
            "tags": [],
            "needs_background": "light"
          }
        }
      ]
    },
    {
      "cell_type": "code",
      "metadata": {
        "id": "T2Mf7jPnklkN",
        "colab_type": "code",
        "colab": {}
      },
      "source": [
        ""
      ],
      "execution_count": 0,
      "outputs": []
    },
    {
      "cell_type": "markdown",
      "metadata": {
        "id": "UytuCxPxyaUx",
        "colab_type": "text"
      },
      "source": [
        "# Code picking\n",
        "Take $C_1$ and $C_2$ s.t. $C_2^\\perp \\subset C_1$. \n",
        "\n",
        "For $C_i$ we denote $H_i$ the parity check matrix, and $G_i$ the generating matrix. That is, the rows of $G_i$ generate $C_i$ by linear combinations, and we have the property that $H_i . G_i^T = 0_{N-K, K}$ (or $0_{N-K', K'}$ for i = 2).\n",
        "\n",
        "Now we chose $c_1$ an $N-K$ bit string at random. We encode our message $x$ in a $N$ bit string $y$ chosen at random provided that $y$ belongs to the coset $C_1^{c_1}$ of $C_1$ defined by $c_1$ and to the coset associated to $x$ of $C_1^{c_1}/C_2^\\perp$. \n",
        "\n",
        "How to do in practice?\n",
        "\n",
        "The conditions above on $y$ are the following: \n",
        "\n",
        "$$H_1.y = c_1$$ and \n",
        "$$K_2.y = x$$ \n",
        "\n",
        "\n",
        "\n",
        "where $K_2$ is a block matrix such that $G_2 = \\left( \\frac{H_1}{K_2}\\right)$. $G_2$ can always be writen in this way as $C_2^\\perp \\subset C_1$. [$C_2^\\perp$ parity check is $G_2$ and its generating matrix is $H_2$. Since $C_2^\\perp \\subset C_1$, we have $H_1 . H_2^T = 0_{N-K, N-K'}$ which in turn implies that we can choose the first $N-K$ parity check equations of $C2^\\perp$ to be defined by $H_1$. That is the first $N-K$ lines of $G_2$ are $H_1$. The $K'+K-N$ independent remaining ones define $K_2$.]\n",
        "\n",
        "\n"
      ]
    },
    {
      "cell_type": "markdown",
      "metadata": {
        "colab_type": "text",
        "id": "fftTO92PCaMs"
      },
      "source": [
        "# Closer to practice\n",
        "## Preprocessing of the codes\n",
        "\n",
        "\n",
        "Similarly, the generating matrix of $G_1$ can be chosen so that its first $N-K'$ rows are $H_2$, while the rest $K+K'-N$ lines which defines a submatrix $K_2$ satisfy $H_1 K_2^T = 0$ and $K_1 K_2^T = I$. \n",
        "\n",
        "In short, $K_1$ is such that for a codeword of $C_1$ it will determine which coset of $C_2^\\perp$ it is associated to. $K_2$ will allow to change coset while staying in $C_1$.\n",
        "\n",
        "## Encoding\n",
        "1. We pick $c_1$ a length-$(N-K)$ bit string at random. Then, because $C_1$ can be easily decoded, we find $y_0$ such that $H_1 y_0^T = c_1^T$. \n",
        "\n",
        "1. We also compute $y_1$ such that $K_1 (y_0 + y_1) = 0$. This is easily done since $K_1 K_2^T = I$.\n",
        "\n",
        "1. Now we want to send $x$, a $(K+K'-N)$-bit string. We construct the vector $y_2 = x K_2$.  \n",
        "\n",
        "1. Then we pick $z$ a $(N-K')$-bit string at random and construct $y_3 = z H_2$. \n",
        "\n",
        "Then we form $y = y_0 + y_1 + y_2 + y_3$. \n",
        "\n",
        "Here $y_0$ moves to a coset of $C_1$ with syndrome $c_1$. \n",
        "\n",
        "$y_1$ stays in the same coset of $C_1$ but moves to the coset of $C_2^\\perp$ with all zero syndrome.\n",
        "\n",
        "$y_2$ picks the coset of $C_2\\perp$ associated to the chosen syndrome $x$, which is equivalent to finding a representative of the chosen coset of $C_1/C_2^\\perp$.\n",
        "\n",
        "$y_3$ stays in the same coset of $C_2/C_2^\\perp$ but changes representative at random.\n",
        "\n",
        "\n",
        "\n",
        "\n",
        "\n"
      ]
    }
  ]
}